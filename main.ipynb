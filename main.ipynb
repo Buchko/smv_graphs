{
 "cells": [
  {
   "cell_type": "code",
   "execution_count": 140,
   "id": "initial_id",
   "metadata": {
    "collapsed": true,
    "ExecuteTime": {
     "end_time": "2024-02-27T03:51:48.724085Z",
     "start_time": "2024-02-27T03:51:48.720823Z"
    }
   },
   "outputs": [],
   "source": [
    "import pandas as pd\n",
    "import altair as alt\n",
    "from scipy import stats\n",
    "import numpy as np"
   ]
  },
  {
   "cell_type": "markdown",
   "source": [
    "```python\n",
    "        state.now = parseFloat(values[0]);\n",
    "        state.rpm = parseFloat(values[1]);\n",
    "        state.speed = parseFloat(values[2]);\n",
    "        state.tacho = parseFloat(values[3]);\n",
    "        state.distance = parseFloat(values[4]);\n",
    "        state.voltage = parseFloat(values[5]);\n",
    "        state.temp_mos = parseFloat(values[6]);\n",
    "        state.temp_motor = parseFloat(values[7]);\n",
    "        state.current_motor = parseFloat(values[8]);\n",
    "        state.current_batt = parseFloat(values[9]);\n",
    "        state.net_energy = parseFloat(values[23]);\n",
    "        state.efficiency = parseFloat(values[24]);\n",
    "        state.avg_speed = parseFloat(values[25]);\n",
    "        state.elapsed = parseFloat(values[26]);\n",
    "        state.time_remaining = parseFloat(values[27]);\n",
    "        state.fault_code = parseFloat(values[20])\n",
    "```"
   ],
   "metadata": {
    "collapsed": false
   },
   "id": "2666872e816ce725"
  },
  {
   "cell_type": "code",
   "outputs": [
    {
     "data": {
      "text/plain": "ThemeRegistry.enable('my_custom_theme')"
     },
     "execution_count": 141,
     "metadata": {},
     "output_type": "execute_result"
    }
   ],
   "source": [
    "def urban_theme():\n",
    "    markColor = \"#1696d2\"\n",
    "    axisColor = \"#000000\"\n",
    "    backgroundColor = \"#FFFFFF\"\n",
    "    font = \"Lato\"\n",
    "    labelFont = \"Lato\"\n",
    "    sourceFont = \"Lato\"\n",
    "    gridColor = \"#DEDDDD\"\n",
    "    main_palette = [\"#1696d2\", \n",
    "                    \"#d2d2d2\",\n",
    "                    \"#000000\", \n",
    "                    \"#fdbf11\", \n",
    "                    \"#ec008b\", \n",
    "                    \"#55b748\", \n",
    "                    \"#5c5859\", \n",
    "                    \"#db2b27\", \n",
    "                   ]\n",
    "    sequential_palette = [\"#cfe8f3\", \n",
    "                          \"#a2d4ec\", \n",
    "                          \"#73bfe2\", \n",
    "                          \"#46abdb\", \n",
    "                          \"#1696d2\", \n",
    "                          \"#12719e\", \n",
    "                         ]\n",
    "    return {\n",
    "        \"width\": 685,\n",
    "        \"height\": 380,   \n",
    "#        \"autosize\": \"fit\",\n",
    "        \"config\": {\n",
    "            \"title\": {\n",
    "                \"anchor\": \"start\",\n",
    "                \"fontSize\": 18,\n",
    "                \"font\": font,\n",
    "                \"fontColor\": \"#000000\"\n",
    "            },\n",
    "            \"axisX\": {\n",
    "               \"domain\": True,\n",
    "               \"domainColor\": axisColor,\n",
    "               \"domainWidth\": 1,\n",
    "               \"grid\": False,\n",
    "               \"labelFontSize\": 12,\n",
    "               \"labelFont\": labelFont,\n",
    "               \"labelAngle\": 0,\n",
    "               \"tickColor\": axisColor,\n",
    "               \"tickSize\": 5,\n",
    "               \"titleFontSize\": 12,\n",
    "               \"titlePadding\": 10,\n",
    "               \"titleFont\": font,\n",
    "               \"title\": \"\",\n",
    "           },\n",
    "           \"axisY\": {\n",
    "               \"domain\": False,\n",
    "               \"grid\": True,\n",
    "               \"gridColor\": gridColor,\n",
    "               \"gridWidth\": 1,\n",
    "               \"labelFontSize\": 12,\n",
    "               \"labelFont\": labelFont,\n",
    "               \"labelPadding\": 8,\n",
    "               \"ticks\": False,\n",
    "               \"titleFontSize\": 12,\n",
    "               \"titlePadding\": 10,\n",
    "               \"titleFont\": font,\n",
    "               \"titleAngle\": 0,\n",
    "               \"titleY\": -10,\n",
    "               \"titleX\": 18,\n",
    "           },\n",
    "           \"background\": backgroundColor,\n",
    "           \"legend\": {\n",
    "               \"labelFontSize\": 12,\n",
    "               \"labelFont\": labelFont,\n",
    "               \"symbolSize\": 100,\n",
    "               \"symbolType\": \"square\",\n",
    "               \"titleFontSize\": 12,\n",
    "               \"titlePadding\": 10,\n",
    "               \"titleFont\": font,\n",
    "               \"title\": \"\",\n",
    "               \"orient\": \"top-left\",\n",
    "               \"offset\": 0,\n",
    "           },\n",
    "           \"view\": {\n",
    "               \"stroke\": \"transparent\",\n",
    "           },\n",
    "           \"range\": {\n",
    "               \"category\": main_palette,\n",
    "               \"diverging\": sequential_palette,\n",
    "           },\n",
    "           \"area\": {\n",
    "               \"fill\": markColor,\n",
    "           },\n",
    "           \"line\": {\n",
    "               \"color\": markColor,\n",
    "               \"stroke\": markColor,\n",
    "               \"strokewidth\": 5,\n",
    "           },\n",
    "           \"trail\": {\n",
    "               \"color\": markColor,\n",
    "               \"stroke\": markColor,\n",
    "               \"strokeWidth\": 0,\n",
    "               \"size\": 1,\n",
    "           },\n",
    "           \"path\": {\n",
    "               \"stroke\": markColor,\n",
    "               \"strokeWidth\": 0.5,\n",
    "           },\n",
    "           \"point\": {\n",
    "               \"filled\": True,\n",
    "           },\n",
    "           \"text\": {\n",
    "               \"font\": sourceFont,\n",
    "               \"color\": markColor,\n",
    "               \"fontSize\": 11,\n",
    "               \"align\": \"right\",\n",
    "               \"fontWeight\": 400,\n",
    "               \"size\": 11,\n",
    "           }, \n",
    "           \"bar\": {\n",
    "                \"size\": 40,\n",
    "                \"binSpacing\": 1,\n",
    "                \"continuousBandSize\": 30,\n",
    "                \"discreteBandSize\": 30,\n",
    "                \"fill\": markColor,\n",
    "                \"stroke\": False,\n",
    "            }, \n",
    "       },\n",
    "    }\n",
    "    \n",
    "    \n",
    "alt.themes.register(\"my_custom_theme\", urban_theme)\n",
    "alt.themes.enable(\"my_custom_theme\")"
   ],
   "metadata": {
    "collapsed": false,
    "ExecuteTime": {
     "end_time": "2024-02-27T03:51:48.776097Z",
     "start_time": "2024-02-27T03:51:48.757860Z"
    }
   },
   "id": "74817af04d3261e2",
   "execution_count": 141
  },
  {
   "cell_type": "markdown",
   "source": [],
   "metadata": {
    "collapsed": false
   },
   "id": "286aa7af4371a4f4"
  },
  {
   "cell_type": "code",
   "outputs": [],
   "source": [
    "df = pd.read_csv(\"drive-download-20240226T231824Z-001/Run1.csv\", header=None)\n",
    "rename_dict = {\n",
    "    0: \"now\",\n",
    "    1: \"rpm\",\n",
    "    2: \"speed\",\n",
    "    3: \"tacho\",\n",
    "    4: \"distance\",\n",
    "    8: \"current_motor\",\n",
    "    9: \"current_bat\"\n",
    "}\n",
    "df = df.rename(columns=rename_dict)"
   ],
   "metadata": {
    "collapsed": false,
    "ExecuteTime": {
     "end_time": "2024-02-27T03:51:48.791959Z",
     "start_time": "2024-02-27T03:51:48.778215Z"
    }
   },
   "id": "374a69682bec0be1",
   "execution_count": 142
  },
  {
   "cell_type": "markdown",
   "source": [],
   "metadata": {
    "collapsed": false
   },
   "id": "ba830047ea59901"
  },
  {
   "cell_type": "code",
   "outputs": [],
   "source": [
    "def mask_df(df):\n",
    "    start = df[\"now\"][0]\n",
    "    df[\"time\"] = df[\"now\"] - start\n",
    "    run_df = df[df[\"speed\"] > 0]\n",
    "    start_time = run_df[\"time\"].iloc[0]\n",
    "    end_time = run_df[\"time\"].iloc[-1]\n",
    "    masked = df[(df[\"time\"] > start_time) & (df[\"time\"] < end_time)]\n",
    "    return masked"
   ],
   "metadata": {
    "collapsed": false,
    "ExecuteTime": {
     "end_time": "2024-02-27T03:51:48.796526Z",
     "start_time": "2024-02-27T03:51:48.793136Z"
    }
   },
   "id": "2602b44f1b4bc441",
   "execution_count": 143
  },
  {
   "cell_type": "code",
   "outputs": [
    {
     "data": {
      "text/html": "\n<style>\n  #altair-viz-a4844eb183294896b3cfd9781b8a9d43.vega-embed {\n    width: 100%;\n    display: flex;\n  }\n\n  #altair-viz-a4844eb183294896b3cfd9781b8a9d43.vega-embed details,\n  #altair-viz-a4844eb183294896b3cfd9781b8a9d43.vega-embed details summary {\n    position: relative;\n  }\n</style>\n<div id=\"altair-viz-a4844eb183294896b3cfd9781b8a9d43\"></div>\n<script type=\"text/javascript\">\n  var VEGA_DEBUG = (typeof VEGA_DEBUG == \"undefined\") ? {} : VEGA_DEBUG;\n  (function(spec, embedOpt){\n    let outputDiv = document.currentScript.previousElementSibling;\n    if (outputDiv.id !== \"altair-viz-a4844eb183294896b3cfd9781b8a9d43\") {\n      outputDiv = document.getElementById(\"altair-viz-a4844eb183294896b3cfd9781b8a9d43\");\n    }\n    const paths = {\n      \"vega\": \"https://cdn.jsdelivr.net/npm/vega@5?noext\",\n      \"vega-lib\": \"https://cdn.jsdelivr.net/npm/vega-lib?noext\",\n      \"vega-lite\": \"https://cdn.jsdelivr.net/npm/vega-lite@5.16.3?noext\",\n      \"vega-embed\": \"https://cdn.jsdelivr.net/npm/vega-embed@6?noext\",\n    };\n\n    function maybeLoadScript(lib, version) {\n      var key = `${lib.replace(\"-\", \"\")}_version`;\n      return (VEGA_DEBUG[key] == version) ?\n        Promise.resolve(paths[lib]) :\n        new Promise(function(resolve, reject) {\n          var s = document.createElement('script');\n          document.getElementsByTagName(\"head\")[0].appendChild(s);\n          s.async = true;\n          s.onload = () => {\n            VEGA_DEBUG[key] = version;\n            return resolve(paths[lib]);\n          };\n          s.onerror = () => reject(`Error loading script: ${paths[lib]}`);\n          s.src = paths[lib];\n        });\n    }\n\n    function showError(err) {\n      outputDiv.innerHTML = `<div class=\"error\" style=\"color:red;\">${err}</div>`;\n      throw err;\n    }\n\n    function displayChart(vegaEmbed) {\n      vegaEmbed(outputDiv, spec, embedOpt)\n        .catch(err => showError(`Javascript Error: ${err.message}<br>This usually means there's a typo in your chart specification. See the javascript console for the full traceback.`));\n    }\n\n    if(typeof define === \"function\" && define.amd) {\n      requirejs.config({paths});\n      require([\"vega-embed\"], displayChart, err => showError(`Error loading script: ${err.message}`));\n    } else {\n      maybeLoadScript(\"vega\", \"5\")\n        .then(() => maybeLoadScript(\"vega-lite\", \"5.16.3\"))\n        .then(() => maybeLoadScript(\"vega-embed\", \"6\"))\n        .catch(showError)\n        .then(() => displayChart(vegaEmbed));\n    }\n  })({\"width\": 685, \"height\": 380, \"config\": {\"title\": {\"anchor\": \"start\", \"fontSize\": 18, \"font\": \"Lato\", \"fontColor\": \"#000000\"}, \"axisX\": {\"domain\": true, \"domainColor\": \"#000000\", \"domainWidth\": 1, \"grid\": false, \"labelFontSize\": 12, \"labelFont\": \"Lato\", \"labelAngle\": 0, \"tickColor\": \"#000000\", \"tickSize\": 5, \"titleFontSize\": 12, \"titlePadding\": 10, \"titleFont\": \"Lato\", \"title\": \"\"}, \"axisY\": {\"domain\": false, \"grid\": true, \"gridColor\": \"#DEDDDD\", \"gridWidth\": 1, \"labelFontSize\": 12, \"labelFont\": \"Lato\", \"labelPadding\": 8, \"ticks\": false, \"titleFontSize\": 12, \"titlePadding\": 10, \"titleFont\": \"Lato\", \"titleAngle\": 0, \"titleY\": -10, \"titleX\": 18}, \"background\": \"#FFFFFF\", \"legend\": {\"labelFontSize\": 12, \"labelFont\": \"Lato\", \"symbolSize\": 100, \"symbolType\": \"square\", \"titleFontSize\": 12, \"titlePadding\": 10, \"titleFont\": \"Lato\", \"title\": \"\", \"orient\": \"top-left\", \"offset\": 0}, \"view\": {\"stroke\": \"transparent\"}, \"range\": {\"category\": [\"#1696d2\", \"#d2d2d2\", \"#000000\", \"#fdbf11\", \"#ec008b\", \"#55b748\", \"#5c5859\", \"#db2b27\"], \"diverging\": [\"#cfe8f3\", \"#a2d4ec\", \"#73bfe2\", \"#46abdb\", \"#1696d2\", \"#12719e\"]}, \"area\": {\"fill\": \"#1696d2\"}, \"line\": {\"color\": \"#1696d2\", \"stroke\": \"#1696d2\", \"strokewidth\": 5}, \"trail\": {\"color\": \"#1696d2\", \"stroke\": \"#1696d2\", \"strokeWidth\": 0, \"size\": 1}, \"path\": {\"stroke\": \"#1696d2\", \"strokeWidth\": 0.5}, \"point\": {\"filled\": true}, \"text\": {\"font\": \"Lato\", \"color\": \"#1696d2\", \"fontSize\": 11, \"align\": \"right\", \"fontWeight\": 400, \"size\": 11}, \"bar\": {\"size\": 40, \"binSpacing\": 1, \"continuousBandSize\": 30, \"discreteBandSize\": 30, \"fill\": \"#1696d2\", \"stroke\": false}}, \"data\": {\"name\": \"data-3d9102c7b3e54471ce2f1b760bccfe4d\"}, \"mark\": {\"type\": \"line\"}, \"encoding\": {\"x\": {\"field\": \"time\", \"title\": \"Time (s)\", \"type\": \"quantitative\"}, \"y\": {\"field\": \"rolling\", \"title\": \"Velocity (m/s)\", \"type\": \"quantitative\"}}, \"$schema\": \"https://vega.github.io/schema/vega-lite/v5.16.3.json\", \"datasets\": {\"data-3d9102c7b3e54471ce2f1b760bccfe4d\": [{\"time\": 152, \"rolling\": 0.6666666666666666}, {\"time\": 152, \"rolling\": 5.776666666666667}, {\"time\": 152, \"rolling\": 11.286666666666667}, {\"time\": 152, \"rolling\": 16.28}, {\"time\": 153, \"rolling\": 16.503333333333334}, {\"time\": 153, \"rolling\": 15.676666666666668}, {\"time\": 155, \"rolling\": 4.923333333333335}, {\"time\": 155, \"rolling\": 9.920000000000002}, {\"time\": 155, \"rolling\": 14.623333333333335}, {\"time\": 155, \"rolling\": 12.036666666666669}, {\"time\": 156, \"rolling\": 2.7233333333333345}, {\"time\": 160, \"rolling\": 4.093333333333335}, {\"time\": 160, \"rolling\": 6.060000000000001}, {\"time\": 163, \"rolling\": 3.1433333333333344}, {\"time\": 164, \"rolling\": 8.110000000000001}, {\"time\": 164, \"rolling\": 13.006666666666668}, {\"time\": 164, \"rolling\": 11.99}, {\"time\": 166, \"rolling\": 4.0966666666666685}, {\"time\": 166, \"rolling\": 8.733333333333334}, {\"time\": 166, \"rolling\": 13.110000000000001}, {\"time\": 166, \"rolling\": 13.33}, {\"time\": 167, \"rolling\": 5.400000000000001}, {\"time\": 167, \"rolling\": 5.370000000000001}, {\"time\": 167, \"rolling\": 9.393333333333334}, {\"time\": 167, \"rolling\": 10.886666666666668}, {\"time\": 172, \"rolling\": 4.026666666666668}, {\"time\": 172, \"rolling\": 8.223333333333334}, {\"time\": 172, \"rolling\": 9.136666666666667}, {\"time\": 177, \"rolling\": 1.526666666666668}, {\"time\": 182, \"rolling\": 4.043333333333334}, {\"time\": 182, \"rolling\": 8.746666666666668}, {\"time\": 183, \"rolling\": 13.186666666666667}, {\"time\": 183, \"rolling\": 13.560000000000002}, {\"time\": 183, \"rolling\": 9.636666666666668}, {\"time\": 187, \"rolling\": 3.560000000000001}, {\"time\": 187, \"rolling\": 8.333333333333334}, {\"time\": 188, \"rolling\": 9.690000000000001}, {\"time\": 189, \"rolling\": 1.7800000000000011}, {\"time\": 189, \"rolling\": 6.533333333333334}, {\"time\": 189, \"rolling\": 11.313333333333334}, {\"time\": 190, \"rolling\": 14.396666666666668}, {\"time\": 190, \"rolling\": 14.056666666666667}, {\"time\": 190, \"rolling\": 13.486666666666666}, {\"time\": 190, \"rolling\": 12.990000000000002}, {\"time\": 191, \"rolling\": 12.590000000000002}, {\"time\": 191, \"rolling\": 12.313333333333333}, {\"time\": 191, \"rolling\": 12.133333333333335}, {\"time\": 191, \"rolling\": 12.080000000000004}, {\"time\": 191, \"rolling\": 12.09666666666667}, {\"time\": 192, \"rolling\": 12.076666666666668}, {\"time\": 192, \"rolling\": 12.030000000000001}, {\"time\": 192, \"rolling\": 12.020000000000001}, {\"time\": 192, \"rolling\": 11.99}, {\"time\": 193, \"rolling\": 11.866666666666667}, {\"time\": 193, \"rolling\": 11.69}, {\"time\": 193, \"rolling\": 10.436666666666667}]}}, {\"mode\": \"vega-lite\"});\n</script>",
      "text/plain": "alt.Chart(...)"
     },
     "metadata": {},
     "output_type": "display_data"
    }
   ],
   "source": [
    "masked = mask_df(df)\n",
    "#rolling average over speeds\n",
    "def graph_attribute(attribute, masked):\n",
    "    copy = masked.copy()\n",
    "    copy = copy[copy[attribute] < 50]\n",
    "    copy[\"rolling\"] = copy[attribute].rolling(window=3).mean()\n",
    "    copy = copy[copy[\"rolling\"].notna()]\n",
    "    copy = copy[copy[attribute] > 1]\n",
    "    chart = alt.Chart(copy[[\"time\", \"rolling\"]]).mark_line().encode(\n",
    "        x=alt.X(\"time\", title=\"Time (s)\"),\n",
    "        y=alt.Y(\"rolling\", title=\"Velocity (m/s)\"))\n",
    "    display(chart)\n",
    "\n",
    "masked = masked[(masked[\"time\"] > 150) & (masked[\"time\"] < 200)]\n",
    "graph_attribute(\"current_motor\", masked)"
   ],
   "metadata": {
    "collapsed": false,
    "ExecuteTime": {
     "end_time": "2024-02-27T03:54:35.045524Z",
     "start_time": "2024-02-27T03:54:35.031474Z"
    }
   },
   "id": "426fa7a52e20f89b",
   "execution_count": 150
  },
  {
   "cell_type": "code",
   "outputs": [],
   "source": [],
   "metadata": {
    "collapsed": false,
    "ExecuteTime": {
     "end_time": "2024-02-27T03:51:48.825113Z",
     "start_time": "2024-02-27T03:51:48.823748Z"
    }
   },
   "id": "1490ff25f78d20a9",
   "execution_count": 144
  },
  {
   "cell_type": "code",
   "outputs": [],
   "source": [],
   "metadata": {
    "collapsed": false,
    "ExecuteTime": {
     "end_time": "2024-02-27T03:51:48.831556Z",
     "start_time": "2024-02-27T03:51:48.829984Z"
    }
   },
   "id": "b3e3037c55635ca9",
   "execution_count": 144
  },
  {
   "cell_type": "code",
   "outputs": [],
   "source": [],
   "metadata": {
    "collapsed": false,
    "ExecuteTime": {
     "end_time": "2024-02-27T03:51:48.857848Z",
     "start_time": "2024-02-27T03:51:48.856152Z"
    }
   },
   "id": "2ff4ef821bca48c6",
   "execution_count": 144
  },
  {
   "cell_type": "code",
   "outputs": [],
   "source": [],
   "metadata": {
    "collapsed": false,
    "ExecuteTime": {
     "end_time": "2024-02-27T03:51:48.862954Z",
     "start_time": "2024-02-27T03:51:48.861319Z"
    }
   },
   "id": "9890b0e4fcd21685",
   "execution_count": 144
  }
 ],
 "metadata": {
  "kernelspec": {
   "display_name": "Python 3",
   "language": "python",
   "name": "python3"
  },
  "language_info": {
   "codemirror_mode": {
    "name": "ipython",
    "version": 2
   },
   "file_extension": ".py",
   "mimetype": "text/x-python",
   "name": "python",
   "nbconvert_exporter": "python",
   "pygments_lexer": "ipython2",
   "version": "2.7.6"
  }
 },
 "nbformat": 4,
 "nbformat_minor": 5
}
