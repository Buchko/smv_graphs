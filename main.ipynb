{
 "cells": [
  {
   "cell_type": "code",
   "execution_count": 73,
   "id": "initial_id",
   "metadata": {
    "collapsed": true,
    "ExecuteTime": {
     "end_time": "2024-02-27T04:29:11.583810Z",
     "start_time": "2024-02-27T04:29:11.581581Z"
    }
   },
   "outputs": [],
   "source": [
    "import pandas as pd\n",
    "import altair as alt\n",
    "from scipy import stats\n",
    "import numpy as np"
   ]
  },
  {
   "cell_type": "markdown",
   "source": [
    "```python\n",
    "        state.now = parseFloat(values[0]);\n",
    "        state.rpm = parseFloat(values[1]);\n",
    "        state.speed = parseFloat(values[2]);\n",
    "        state.tacho = parseFloat(values[3]);\n",
    "        state.distance = parseFloat(values[4]);\n",
    "        state.voltage = parseFloat(values[5]);\n",
    "        state.temp_mos = parseFloat(values[6]);\n",
    "        state.temp_motor = parseFloat(values[7]);\n",
    "        state.current_motor = parseFloat(values[8]);\n",
    "        state.current_batt = parseFloat(values[9]);\n",
    "        state.net_energy = parseFloat(values[23]);\n",
    "        state.efficiency = parseFloat(values[24]);\n",
    "        state.avg_speed = parseFloat(values[25]);\n",
    "        state.elapsed = parseFloat(values[26]);\n",
    "        state.time_remaining = parseFloat(values[27]);\n",
    "        state.fault_code = parseFloat(values[20])\n",
    "```"
   ],
   "metadata": {
    "collapsed": false
   },
   "id": "2666872e816ce725"
  },
  {
   "cell_type": "code",
   "outputs": [
    {
     "data": {
      "text/plain": "ThemeRegistry.enable('my_custom_theme')"
     },
     "execution_count": 74,
     "metadata": {},
     "output_type": "execute_result"
    }
   ],
   "source": [
    "def urban_theme():\n",
    "    markColor = \"#1696d2\"\n",
    "    axisColor = \"#000000\"\n",
    "    backgroundColor = \"#FFFFFF\"\n",
    "    font = \"Lato\"\n",
    "    labelFont = \"Lato\"\n",
    "    sourceFont = \"Lato\"\n",
    "    gridColor = \"#DEDDDD\"\n",
    "    main_palette = [\"#1696d2\",\n",
    "                    \"#d2d2d2\",\n",
    "                    \"#000000\",\n",
    "                    \"#fdbf11\",\n",
    "                    \"#ec008b\",\n",
    "                    \"#55b748\",\n",
    "                    \"#5c5859\",\n",
    "                    \"#db2b27\",\n",
    "                    ]\n",
    "    sequential_palette = [\"#cfe8f3\",\n",
    "                          \"#a2d4ec\",\n",
    "                          \"#73bfe2\",\n",
    "                          \"#46abdb\",\n",
    "                          \"#1696d2\",\n",
    "                          \"#12719e\",\n",
    "                          ]\n",
    "    return {\n",
    "        \"width\": 685,\n",
    "        \"height\": 380,\n",
    "        #        \"autosize\": \"fit\",\n",
    "        \"config\": {\n",
    "            \"title\": {\n",
    "                \"anchor\": \"start\",\n",
    "                \"fontSize\": 18,\n",
    "                \"font\": font,\n",
    "                \"fontColor\": \"#000000\"\n",
    "            },\n",
    "            \"axisX\": {\n",
    "                \"domain\": True,\n",
    "                \"domainColor\": axisColor,\n",
    "                \"domainWidth\": 1,\n",
    "                \"grid\": False,\n",
    "                \"labelFontSize\": 12,\n",
    "                \"labelFont\": labelFont,\n",
    "                \"labelAngle\": 0,\n",
    "                \"tickColor\": axisColor,\n",
    "                \"tickSize\": 5,\n",
    "                \"titleFontSize\": 12,\n",
    "                \"titlePadding\": 10,\n",
    "                \"titleFont\": font,\n",
    "                \"title\": \"\",\n",
    "            },\n",
    "            \"axisY\": {\n",
    "                \"domain\": False,\n",
    "                \"grid\": True,\n",
    "                \"gridColor\": gridColor,\n",
    "                \"gridWidth\": 1,\n",
    "                \"labelFontSize\": 12,\n",
    "                \"labelFont\": labelFont,\n",
    "                \"labelPadding\": 8,\n",
    "                \"ticks\": False,\n",
    "                \"titleFontSize\": 12,\n",
    "                \"titlePadding\": 10,\n",
    "                \"titleFont\": font,\n",
    "                \"titleAngle\": 0,\n",
    "                \"titleY\": -10,\n",
    "                \"titleX\": 18,\n",
    "            },\n",
    "            \"background\": backgroundColor,\n",
    "            \"legend\": {\n",
    "                \"labelFontSize\": 12,\n",
    "                \"labelFont\": labelFont,\n",
    "                \"symbolSize\": 100,\n",
    "                \"symbolType\": \"square\",\n",
    "                \"titleFontSize\": 12,\n",
    "                \"titlePadding\": 10,\n",
    "                \"titleFont\": font,\n",
    "                \"title\": \"\",\n",
    "                \"orient\": \"top-left\",\n",
    "                \"offset\": 0,\n",
    "            },\n",
    "            \"view\": {\n",
    "                \"stroke\": \"transparent\",\n",
    "            },\n",
    "            \"range\": {\n",
    "                \"category\": main_palette,\n",
    "                \"diverging\": sequential_palette,\n",
    "            },\n",
    "            \"area\": {\n",
    "                \"fill\": markColor,\n",
    "            },\n",
    "            \"line\": {\n",
    "                \"color\": markColor,\n",
    "                \"stroke\": markColor,\n",
    "                \"strokewidth\": 5,\n",
    "            },\n",
    "            \"trail\": {\n",
    "                \"color\": markColor,\n",
    "                \"stroke\": markColor,\n",
    "                \"strokeWidth\": 0,\n",
    "                \"size\": 1,\n",
    "            },\n",
    "            \"path\": {\n",
    "                \"stroke\": markColor,\n",
    "                \"strokeWidth\": 0.5,\n",
    "            },\n",
    "            \"point\": {\n",
    "                \"filled\": True,\n",
    "            },\n",
    "            \"text\": {\n",
    "                \"font\": sourceFont,\n",
    "                \"color\": markColor,\n",
    "                \"fontSize\": 11,\n",
    "                \"align\": \"right\",\n",
    "                \"fontWeight\": 400,\n",
    "                \"size\": 11,\n",
    "            },\n",
    "            \"bar\": {\n",
    "                \"size\": 40,\n",
    "                \"binSpacing\": 1,\n",
    "                \"continuousBandSize\": 30,\n",
    "                \"discreteBandSize\": 30,\n",
    "                \"fill\": markColor,\n",
    "                \"stroke\": False,\n",
    "            },\n",
    "        },\n",
    "    }\n",
    "\n",
    "\n",
    "alt.themes.register(\"my_custom_theme\", urban_theme)\n",
    "alt.themes.enable(\"my_custom_theme\")"
   ],
   "metadata": {
    "collapsed": false,
    "ExecuteTime": {
     "end_time": "2024-02-27T04:29:11.621Z",
     "start_time": "2024-02-27T04:29:11.611779Z"
    }
   },
   "id": "74817af04d3261e2",
   "execution_count": 74
  },
  {
   "cell_type": "markdown",
   "source": [],
   "metadata": {
    "collapsed": false
   },
   "id": "286aa7af4371a4f4"
  },
  {
   "cell_type": "code",
   "outputs": [],
   "source": [
    "df = pd.read_csv(\"drive-download-20240226T231824Z-001/Run1.csv\", header=None)\n",
    "rename_dict = {\n",
    "    0: \"now\",\n",
    "    1: \"rpm\",\n",
    "    2: \"speed\",\n",
    "    3: \"tacho\",\n",
    "    4: \"distance\",\n",
    "    8: \"current_motor\",\n",
    "    9: \"current_bat\"\n",
    "}\n",
    "df = df.rename(columns=rename_dict)"
   ],
   "metadata": {
    "collapsed": false,
    "ExecuteTime": {
     "end_time": "2024-02-27T04:29:11.657232Z",
     "start_time": "2024-02-27T04:29:11.646741Z"
    }
   },
   "id": "374a69682bec0be1",
   "execution_count": 75
  },
  {
   "cell_type": "markdown",
   "source": [],
   "metadata": {
    "collapsed": false
   },
   "id": "ba830047ea59901"
  },
  {
   "cell_type": "code",
   "outputs": [],
   "source": [
    "def mask_df(df):\n",
    "    start = df[\"now\"][0]\n",
    "    df[\"time\"] = df[\"now\"] - start\n",
    "    run_df = df[df[\"speed\"] > 0]\n",
    "    start_time = run_df[\"time\"].iloc[0]\n",
    "    end_time = run_df[\"time\"].iloc[-1]\n",
    "    masked = df[(df[\"time\"] > start_time) & (df[\"time\"] < end_time)]\n",
    "    return masked"
   ],
   "metadata": {
    "collapsed": false,
    "ExecuteTime": {
     "end_time": "2024-02-27T04:29:11.661315Z",
     "start_time": "2024-02-27T04:29:11.658430Z"
    }
   },
   "id": "2602b44f1b4bc441",
   "execution_count": 76
  },
  {
   "cell_type": "code",
   "outputs": [
    {
     "data": {
      "text/plain": "            now     rpm  speed  tacho  distance     5     6     7  \\\n338  1647558711  140.39  10.86     13      0.02  52.3  43.7 -99.4   \n339  1647558711  140.39  10.86     13      0.02  53.1  43.7 -88.7   \n340  1647558711  140.39  10.86     13      0.02  53.2  43.8 -87.6   \n341  1647558711  146.26  11.31     14      0.02  53.1  43.9 -88.4   \n342  1647558712  146.26  11.31     14      0.02  53.2  43.9 -87.2   \n..          ...     ...    ...    ...       ...   ...   ...   ...   \n545  1647558758  224.70  17.38    172      0.22  53.0  47.2 -88.4   \n546  1647558759  223.24  17.27    173      0.22  53.1  47.2 -87.4   \n547  1647558759  219.97  17.01    175      0.23  53.1  47.2 -88.1   \n548  1647558759  219.97  17.01    175      0.23  53.0  47.1 -87.0   \n549  1647558759  218.29  16.88    176      0.23  53.1  47.1 -87.5   \n\n     current_motor  current_bat  ...     19  20   21  22    23      24    25  \\\n338          15.68         8.10  ...   1711   0  0.0   0  0.36   55.25  1.44   \n339           0.32         0.12  ...   1795   0  0.0   0  0.36   55.11  1.44   \n340           0.10         0.00  ...   1810   0  0.0   0  0.36   55.11  1.44   \n341           0.22         0.00  ...   1810   0  0.0   0  0.36   55.11  1.44   \n342           0.22         0.00  ...   1810   0  0.0   0  0.36   55.11  1.41   \n..             ...          ...  ...    ...  ..  ...  ..   ...     ...   ...   \n545           0.05         0.00  ...  11966   0  0.0   0  1.75  125.72  8.16   \n546           0.06         0.00  ...  11966   0  0.0   0  1.75  125.72  8.08   \n547           0.06         0.00  ...  11966   0  0.0   0  1.75  131.44  8.45   \n548           0.05         0.00  ...  11966   0  0.0   0  1.75  131.44  8.45   \n549           0.06         0.00  ...  11966   0  0.0   0  1.75  131.44  8.45   \n\n     time  speed_rolling  motor_rolling  \n338   151            NaN            NaN  \n339   151            NaN            NaN  \n340   151      10.860000       5.366667  \n341   151      11.010000       0.213333  \n342   152      11.160000       0.180000  \n..    ...            ...            ...  \n545   198      17.426667       0.056667  \n546   199      17.343333       0.056667  \n547   199      17.220000       0.056667  \n548   199      17.096667       0.056667  \n549   199      16.966667       0.056667  \n\n[212 rows x 29 columns]",
      "text/html": "<div>\n<style scoped>\n    .dataframe tbody tr th:only-of-type {\n        vertical-align: middle;\n    }\n\n    .dataframe tbody tr th {\n        vertical-align: top;\n    }\n\n    .dataframe thead th {\n        text-align: right;\n    }\n</style>\n<table border=\"1\" class=\"dataframe\">\n  <thead>\n    <tr style=\"text-align: right;\">\n      <th></th>\n      <th>now</th>\n      <th>rpm</th>\n      <th>speed</th>\n      <th>tacho</th>\n      <th>distance</th>\n      <th>5</th>\n      <th>6</th>\n      <th>7</th>\n      <th>current_motor</th>\n      <th>current_bat</th>\n      <th>...</th>\n      <th>19</th>\n      <th>20</th>\n      <th>21</th>\n      <th>22</th>\n      <th>23</th>\n      <th>24</th>\n      <th>25</th>\n      <th>time</th>\n      <th>speed_rolling</th>\n      <th>motor_rolling</th>\n    </tr>\n  </thead>\n  <tbody>\n    <tr>\n      <th>338</th>\n      <td>1647558711</td>\n      <td>140.39</td>\n      <td>10.86</td>\n      <td>13</td>\n      <td>0.02</td>\n      <td>52.3</td>\n      <td>43.7</td>\n      <td>-99.4</td>\n      <td>15.68</td>\n      <td>8.10</td>\n      <td>...</td>\n      <td>1711</td>\n      <td>0</td>\n      <td>0.0</td>\n      <td>0</td>\n      <td>0.36</td>\n      <td>55.25</td>\n      <td>1.44</td>\n      <td>151</td>\n      <td>NaN</td>\n      <td>NaN</td>\n    </tr>\n    <tr>\n      <th>339</th>\n      <td>1647558711</td>\n      <td>140.39</td>\n      <td>10.86</td>\n      <td>13</td>\n      <td>0.02</td>\n      <td>53.1</td>\n      <td>43.7</td>\n      <td>-88.7</td>\n      <td>0.32</td>\n      <td>0.12</td>\n      <td>...</td>\n      <td>1795</td>\n      <td>0</td>\n      <td>0.0</td>\n      <td>0</td>\n      <td>0.36</td>\n      <td>55.11</td>\n      <td>1.44</td>\n      <td>151</td>\n      <td>NaN</td>\n      <td>NaN</td>\n    </tr>\n    <tr>\n      <th>340</th>\n      <td>1647558711</td>\n      <td>140.39</td>\n      <td>10.86</td>\n      <td>13</td>\n      <td>0.02</td>\n      <td>53.2</td>\n      <td>43.8</td>\n      <td>-87.6</td>\n      <td>0.10</td>\n      <td>0.00</td>\n      <td>...</td>\n      <td>1810</td>\n      <td>0</td>\n      <td>0.0</td>\n      <td>0</td>\n      <td>0.36</td>\n      <td>55.11</td>\n      <td>1.44</td>\n      <td>151</td>\n      <td>10.860000</td>\n      <td>5.366667</td>\n    </tr>\n    <tr>\n      <th>341</th>\n      <td>1647558711</td>\n      <td>146.26</td>\n      <td>11.31</td>\n      <td>14</td>\n      <td>0.02</td>\n      <td>53.1</td>\n      <td>43.9</td>\n      <td>-88.4</td>\n      <td>0.22</td>\n      <td>0.00</td>\n      <td>...</td>\n      <td>1810</td>\n      <td>0</td>\n      <td>0.0</td>\n      <td>0</td>\n      <td>0.36</td>\n      <td>55.11</td>\n      <td>1.44</td>\n      <td>151</td>\n      <td>11.010000</td>\n      <td>0.213333</td>\n    </tr>\n    <tr>\n      <th>342</th>\n      <td>1647558712</td>\n      <td>146.26</td>\n      <td>11.31</td>\n      <td>14</td>\n      <td>0.02</td>\n      <td>53.2</td>\n      <td>43.9</td>\n      <td>-87.2</td>\n      <td>0.22</td>\n      <td>0.00</td>\n      <td>...</td>\n      <td>1810</td>\n      <td>0</td>\n      <td>0.0</td>\n      <td>0</td>\n      <td>0.36</td>\n      <td>55.11</td>\n      <td>1.41</td>\n      <td>152</td>\n      <td>11.160000</td>\n      <td>0.180000</td>\n    </tr>\n    <tr>\n      <th>...</th>\n      <td>...</td>\n      <td>...</td>\n      <td>...</td>\n      <td>...</td>\n      <td>...</td>\n      <td>...</td>\n      <td>...</td>\n      <td>...</td>\n      <td>...</td>\n      <td>...</td>\n      <td>...</td>\n      <td>...</td>\n      <td>...</td>\n      <td>...</td>\n      <td>...</td>\n      <td>...</td>\n      <td>...</td>\n      <td>...</td>\n      <td>...</td>\n      <td>...</td>\n      <td>...</td>\n    </tr>\n    <tr>\n      <th>545</th>\n      <td>1647558758</td>\n      <td>224.70</td>\n      <td>17.38</td>\n      <td>172</td>\n      <td>0.22</td>\n      <td>53.0</td>\n      <td>47.2</td>\n      <td>-88.4</td>\n      <td>0.05</td>\n      <td>0.00</td>\n      <td>...</td>\n      <td>11966</td>\n      <td>0</td>\n      <td>0.0</td>\n      <td>0</td>\n      <td>1.75</td>\n      <td>125.72</td>\n      <td>8.16</td>\n      <td>198</td>\n      <td>17.426667</td>\n      <td>0.056667</td>\n    </tr>\n    <tr>\n      <th>546</th>\n      <td>1647558759</td>\n      <td>223.24</td>\n      <td>17.27</td>\n      <td>173</td>\n      <td>0.22</td>\n      <td>53.1</td>\n      <td>47.2</td>\n      <td>-87.4</td>\n      <td>0.06</td>\n      <td>0.00</td>\n      <td>...</td>\n      <td>11966</td>\n      <td>0</td>\n      <td>0.0</td>\n      <td>0</td>\n      <td>1.75</td>\n      <td>125.72</td>\n      <td>8.08</td>\n      <td>199</td>\n      <td>17.343333</td>\n      <td>0.056667</td>\n    </tr>\n    <tr>\n      <th>547</th>\n      <td>1647558759</td>\n      <td>219.97</td>\n      <td>17.01</td>\n      <td>175</td>\n      <td>0.23</td>\n      <td>53.1</td>\n      <td>47.2</td>\n      <td>-88.1</td>\n      <td>0.06</td>\n      <td>0.00</td>\n      <td>...</td>\n      <td>11966</td>\n      <td>0</td>\n      <td>0.0</td>\n      <td>0</td>\n      <td>1.75</td>\n      <td>131.44</td>\n      <td>8.45</td>\n      <td>199</td>\n      <td>17.220000</td>\n      <td>0.056667</td>\n    </tr>\n    <tr>\n      <th>548</th>\n      <td>1647558759</td>\n      <td>219.97</td>\n      <td>17.01</td>\n      <td>175</td>\n      <td>0.23</td>\n      <td>53.0</td>\n      <td>47.1</td>\n      <td>-87.0</td>\n      <td>0.05</td>\n      <td>0.00</td>\n      <td>...</td>\n      <td>11966</td>\n      <td>0</td>\n      <td>0.0</td>\n      <td>0</td>\n      <td>1.75</td>\n      <td>131.44</td>\n      <td>8.45</td>\n      <td>199</td>\n      <td>17.096667</td>\n      <td>0.056667</td>\n    </tr>\n    <tr>\n      <th>549</th>\n      <td>1647558759</td>\n      <td>218.29</td>\n      <td>16.88</td>\n      <td>176</td>\n      <td>0.23</td>\n      <td>53.1</td>\n      <td>47.1</td>\n      <td>-87.5</td>\n      <td>0.06</td>\n      <td>0.00</td>\n      <td>...</td>\n      <td>11966</td>\n      <td>0</td>\n      <td>0.0</td>\n      <td>0</td>\n      <td>1.75</td>\n      <td>131.44</td>\n      <td>8.45</td>\n      <td>199</td>\n      <td>16.966667</td>\n      <td>0.056667</td>\n    </tr>\n  </tbody>\n</table>\n<p>212 rows × 29 columns</p>\n</div>"
     },
     "metadata": {},
     "output_type": "display_data"
    },
    {
     "data": {
      "text/html": "\n<style>\n  #altair-viz-1e6fd01cf90947f1a1a814113b09cf40.vega-embed {\n    width: 100%;\n    display: flex;\n  }\n\n  #altair-viz-1e6fd01cf90947f1a1a814113b09cf40.vega-embed details,\n  #altair-viz-1e6fd01cf90947f1a1a814113b09cf40.vega-embed details summary {\n    position: relative;\n  }\n</style>\n<div id=\"altair-viz-1e6fd01cf90947f1a1a814113b09cf40\"></div>\n<script type=\"text/javascript\">\n  var VEGA_DEBUG = (typeof VEGA_DEBUG == \"undefined\") ? {} : VEGA_DEBUG;\n  (function(spec, embedOpt){\n    let outputDiv = document.currentScript.previousElementSibling;\n    if (outputDiv.id !== \"altair-viz-1e6fd01cf90947f1a1a814113b09cf40\") {\n      outputDiv = document.getElementById(\"altair-viz-1e6fd01cf90947f1a1a814113b09cf40\");\n    }\n    const paths = {\n      \"vega\": \"https://cdn.jsdelivr.net/npm/vega@5?noext\",\n      \"vega-lib\": \"https://cdn.jsdelivr.net/npm/vega-lib?noext\",\n      \"vega-lite\": \"https://cdn.jsdelivr.net/npm/vega-lite@5.16.3?noext\",\n      \"vega-embed\": \"https://cdn.jsdelivr.net/npm/vega-embed@6?noext\",\n    };\n\n    function maybeLoadScript(lib, version) {\n      var key = `${lib.replace(\"-\", \"\")}_version`;\n      return (VEGA_DEBUG[key] == version) ?\n        Promise.resolve(paths[lib]) :\n        new Promise(function(resolve, reject) {\n          var s = document.createElement('script');\n          document.getElementsByTagName(\"head\")[0].appendChild(s);\n          s.async = true;\n          s.onload = () => {\n            VEGA_DEBUG[key] = version;\n            return resolve(paths[lib]);\n          };\n          s.onerror = () => reject(`Error loading script: ${paths[lib]}`);\n          s.src = paths[lib];\n        });\n    }\n\n    function showError(err) {\n      outputDiv.innerHTML = `<div class=\"error\" style=\"color:red;\">${err}</div>`;\n      throw err;\n    }\n\n    function displayChart(vegaEmbed) {\n      vegaEmbed(outputDiv, spec, embedOpt)\n        .catch(err => showError(`Javascript Error: ${err.message}<br>This usually means there's a typo in your chart specification. See the javascript console for the full traceback.`));\n    }\n\n    if(typeof define === \"function\" && define.amd) {\n      requirejs.config({paths});\n      require([\"vega-embed\"], displayChart, err => showError(`Error loading script: ${err.message}`));\n    } else {\n      maybeLoadScript(\"vega\", \"5\")\n        .then(() => maybeLoadScript(\"vega-lite\", \"5.16.3\"))\n        .then(() => maybeLoadScript(\"vega-embed\", \"6\"))\n        .catch(showError)\n        .then(() => displayChart(vegaEmbed));\n    }\n  })({\"width\": 685, \"height\": 380, \"config\": {\"title\": {\"anchor\": \"start\", \"fontSize\": 18, \"font\": \"Lato\", \"fontColor\": \"#000000\"}, \"axisX\": {\"domain\": true, \"domainColor\": \"#000000\", \"domainWidth\": 1, \"grid\": false, \"labelFontSize\": 12, \"labelFont\": \"Lato\", \"labelAngle\": 0, \"tickColor\": \"#000000\", \"tickSize\": 5, \"titleFontSize\": 12, \"titlePadding\": 10, \"titleFont\": \"Lato\", \"title\": \"\"}, \"axisY\": {\"domain\": false, \"grid\": true, \"gridColor\": \"#DEDDDD\", \"gridWidth\": 1, \"labelFontSize\": 12, \"labelFont\": \"Lato\", \"labelPadding\": 8, \"ticks\": false, \"titleFontSize\": 12, \"titlePadding\": 10, \"titleFont\": \"Lato\", \"titleAngle\": 0, \"titleY\": -10, \"titleX\": 18}, \"background\": \"#FFFFFF\", \"legend\": {\"labelFontSize\": 12, \"labelFont\": \"Lato\", \"symbolSize\": 100, \"symbolType\": \"square\", \"titleFontSize\": 12, \"titlePadding\": 10, \"titleFont\": \"Lato\", \"title\": \"\", \"orient\": \"top-left\", \"offset\": 0}, \"view\": {\"stroke\": \"transparent\"}, \"range\": {\"category\": [\"#1696d2\", \"#d2d2d2\", \"#000000\", \"#fdbf11\", \"#ec008b\", \"#55b748\", \"#5c5859\", \"#db2b27\"], \"diverging\": [\"#cfe8f3\", \"#a2d4ec\", \"#73bfe2\", \"#46abdb\", \"#1696d2\", \"#12719e\"]}, \"area\": {\"fill\": \"#1696d2\"}, \"line\": {\"color\": \"#1696d2\", \"stroke\": \"#1696d2\", \"strokewidth\": 5}, \"trail\": {\"color\": \"#1696d2\", \"stroke\": \"#1696d2\", \"strokeWidth\": 0, \"size\": 1}, \"path\": {\"stroke\": \"#1696d2\", \"strokeWidth\": 0.5}, \"point\": {\"filled\": true}, \"text\": {\"font\": \"Lato\", \"color\": \"#1696d2\", \"fontSize\": 11, \"align\": \"right\", \"fontWeight\": 400, \"size\": 11}, \"bar\": {\"size\": 40, \"binSpacing\": 1, \"continuousBandSize\": 30, \"discreteBandSize\": 30, \"fill\": \"#1696d2\", \"stroke\": false}}, \"layer\": [{\"mark\": {\"type\": \"line\", \"stroke\": \"#04a5e5\"}, \"encoding\": {\"x\": {\"field\": \"time\", \"title\": \"time (s)\", \"type\": \"quantitative\"}, \"y\": {\"axis\": {\"title\": \"Velocity (m/s)\", \"titleColor\": \"#04a5e5\"}, \"field\": \"speed_rolling\", \"type\": \"quantitative\"}}}, {\"mark\": {\"type\": \"line\", \"stroke\": \"#fe640b\"}, \"encoding\": {\"x\": {\"field\": \"time\", \"title\": \"time (s)\", \"type\": \"quantitative\"}, \"y\": {\"axis\": {\"title\": \"Motor Current (Amps)\", \"titleColor\": \"#fe640b\"}, \"field\": \"motor_rolling\", \"scale\": {\"domain\": [0, 20]}, \"type\": \"quantitative\"}}}], \"data\": {\"name\": \"data-2c56491ee353a75eb130278f5d66a815\"}, \"resolve\": {\"scale\": {\"y\": \"independent\"}}, \"$schema\": \"https://vega.github.io/schema/vega-lite/v5.16.3.json\", \"datasets\": {\"data-2c56491ee353a75eb130278f5d66a815\": [{\"time\": 151, \"speed_rolling\": null, \"motor_rolling\": null}, {\"time\": 151, \"speed_rolling\": null, \"motor_rolling\": null}, {\"time\": 151, \"speed_rolling\": 10.86, \"motor_rolling\": 5.366666666666667}, {\"time\": 151, \"speed_rolling\": 11.01, \"motor_rolling\": 0.21333333333333335}, {\"time\": 152, \"speed_rolling\": 11.160000000000002, \"motor_rolling\": 0.18000000000000002}, {\"time\": 152, \"speed_rolling\": 11.280000000000001, \"motor_rolling\": 0.6666666666666666}, {\"time\": 152, \"speed_rolling\": 11.209999999999999, \"motor_rolling\": 5.776666666666667}, {\"time\": 152, \"speed_rolling\": 11.14, \"motor_rolling\": 11.286666666666667}, {\"time\": 152, \"speed_rolling\": 11.273333333333333, \"motor_rolling\": 16.28}, {\"time\": 153, \"speed_rolling\": 11.729999999999999, \"motor_rolling\": 16.503333333333334}, {\"time\": 153, \"speed_rolling\": 12.186666666666667, \"motor_rolling\": 15.676666666666668}, {\"time\": 153, \"speed_rolling\": 12.723333333333334, \"motor_rolling\": 10.193333333333333}, {\"time\": 153, \"speed_rolling\": 12.976666666666668, \"motor_rolling\": 4.830000000000001}, {\"time\": 154, \"speed_rolling\": 13.299999999999999, \"motor_rolling\": 0.15333333333333451}, {\"time\": 154, \"speed_rolling\": 13.343333333333334, \"motor_rolling\": 0.2033333333333345}, {\"time\": 154, \"speed_rolling\": 13.356666666666667, \"motor_rolling\": 0.24}, {\"time\": 154, \"speed_rolling\": 13.299999999999999, \"motor_rolling\": 0.23666666666666783}, {\"time\": 155, \"speed_rolling\": 13.246666666666668, \"motor_rolling\": 0.43666666666666787}, {\"time\": 155, \"speed_rolling\": 13.223333333333331, \"motor_rolling\": 4.923333333333335}, {\"time\": 155, \"speed_rolling\": 13.196666666666667, \"motor_rolling\": 9.920000000000002}, {\"time\": 155, \"speed_rolling\": 13.376666666666665, \"motor_rolling\": 14.623333333333335}, {\"time\": 155, \"speed_rolling\": 13.773333333333333, \"motor_rolling\": 12.036666666666669}, {\"time\": 156, \"speed_rolling\": 14.173333333333334, \"motor_rolling\": 6.993333333333335}, {\"time\": 156, \"speed_rolling\": 14.456666666666665, \"motor_rolling\": 2.7233333333333345}, {\"time\": 156, \"speed_rolling\": 14.516666666666666, \"motor_rolling\": 0.7600000000000011}, {\"time\": 156, \"speed_rolling\": 14.576666666666666, \"motor_rolling\": 0.7300000000000012}, {\"time\": 157, \"speed_rolling\": 14.553333333333335, \"motor_rolling\": 0.03666666666666785}, {\"time\": 157, \"speed_rolling\": 14.523333333333333, \"motor_rolling\": 0.04000000000000118}, {\"time\": 157, \"speed_rolling\": 14.473333333333334, \"motor_rolling\": 0.06}, {\"time\": 157, \"speed_rolling\": 14.44, \"motor_rolling\": 0.06}, {\"time\": 158, \"speed_rolling\": 14.4, \"motor_rolling\": 0.06}, {\"time\": 158, \"speed_rolling\": 14.366666666666667, \"motor_rolling\": 0.06}, {\"time\": 158, \"speed_rolling\": 14.333333333333334, \"motor_rolling\": 0.06}, {\"time\": 158, \"speed_rolling\": 14.313333333333333, \"motor_rolling\": 0.06}, {\"time\": 158, \"speed_rolling\": 14.29, \"motor_rolling\": 0.06}, {\"time\": 159, \"speed_rolling\": 14.25, \"motor_rolling\": 0.06}, {\"time\": 159, \"speed_rolling\": 14.216666666666667, \"motor_rolling\": 0.06}, {\"time\": 159, \"speed_rolling\": 14.183333333333332, \"motor_rolling\": 0.06}, {\"time\": 159, \"speed_rolling\": 14.149999999999999, \"motor_rolling\": 0.06}, {\"time\": 160, \"speed_rolling\": 14.116666666666667, \"motor_rolling\": 0.06}, {\"time\": 160, \"speed_rolling\": 14.096666666666666, \"motor_rolling\": 0.12000000000000118}, {\"time\": 160, \"speed_rolling\": 14.083333333333334, \"motor_rolling\": 4.093333333333335}, {\"time\": 160, \"speed_rolling\": 14.14, \"motor_rolling\": 6.060000000000001}, {\"time\": 161, \"speed_rolling\": 14.200000000000001, \"motor_rolling\": 5.996666666666669}, {\"time\": 161, \"speed_rolling\": 14.326666666666666, \"motor_rolling\": 2.0033333333333343}, {\"time\": 161, \"speed_rolling\": 14.383333333333333, \"motor_rolling\": 0.03666666666666785}, {\"time\": 161, \"speed_rolling\": 14.42, \"motor_rolling\": 0.04000000000000118}, {\"time\": 161, \"speed_rolling\": 14.373333333333335, \"motor_rolling\": 0.06}, {\"time\": 162, \"speed_rolling\": 14.286666666666667, \"motor_rolling\": 0.06}, {\"time\": 162, \"speed_rolling\": 14.19, \"motor_rolling\": 0.06}, {\"time\": 162, \"speed_rolling\": 14.12, \"motor_rolling\": 0.06}, {\"time\": 162, \"speed_rolling\": 14.066666666666668, \"motor_rolling\": 0.06}, {\"time\": 163, \"speed_rolling\": 14.043333333333331, \"motor_rolling\": 0.06}, {\"time\": 163, \"speed_rolling\": 13.983333333333334, \"motor_rolling\": 0.06}, {\"time\": 163, \"speed_rolling\": 13.946666666666667, \"motor_rolling\": 0.06}, {\"time\": 163, \"speed_rolling\": 13.893333333333333, \"motor_rolling\": 3.1433333333333344}, {\"time\": 164, \"speed_rolling\": 13.876666666666665, \"motor_rolling\": 8.110000000000001}, {\"time\": 164, \"speed_rolling\": 13.9, \"motor_rolling\": 13.006666666666668}, {\"time\": 164, \"speed_rolling\": 14.123333333333333, \"motor_rolling\": 11.99}, {\"time\": 164, \"speed_rolling\": 14.346666666666666, \"motor_rolling\": 7.016666666666667}, {\"time\": 164, \"speed_rolling\": 14.61, \"motor_rolling\": 2.140000000000001}, {\"time\": 165, \"speed_rolling\": 14.689999999999998, \"motor_rolling\": 0.13333333333333452}, {\"time\": 165, \"speed_rolling\": 14.746666666666664, \"motor_rolling\": 0.19666666666666788}, {\"time\": 165, \"speed_rolling\": 14.723333333333334, \"motor_rolling\": 0.23666666666666783}, {\"time\": 165, \"speed_rolling\": 14.68, \"motor_rolling\": 0.29666666666666786}, {\"time\": 166, \"speed_rolling\": 14.636666666666665, \"motor_rolling\": 4.0966666666666685}, {\"time\": 166, \"speed_rolling\": 14.593333333333334, \"motor_rolling\": 8.733333333333334}, {\"time\": 166, \"speed_rolling\": 14.82, \"motor_rolling\": 13.110000000000001}, {\"time\": 166, \"speed_rolling\": 15.07, \"motor_rolling\": 13.33}, {\"time\": 167, \"speed_rolling\": 15.506666666666668, \"motor_rolling\": 8.666666666666668}, {\"time\": 167, \"speed_rolling\": 15.76, \"motor_rolling\": 5.400000000000001}, {\"time\": 167, \"speed_rolling\": 16.013333333333332, \"motor_rolling\": 5.370000000000001}, {\"time\": 167, \"speed_rolling\": 16.099999999999998, \"motor_rolling\": 9.393333333333334}, {\"time\": 167, \"speed_rolling\": 16.26, \"motor_rolling\": 10.886666666666668}, {\"time\": 168, \"speed_rolling\": 16.576666666666668, \"motor_rolling\": 6.830000000000002}, {\"time\": 168, \"speed_rolling\": 16.893333333333334, \"motor_rolling\": 2.7600000000000016}, {\"time\": 168, \"speed_rolling\": 17.05666666666667, \"motor_rolling\": -0.059999999999998825}, {\"time\": 168, \"speed_rolling\": 17.026666666666667, \"motor_rolling\": -0.14333333333333217}, {\"time\": 169, \"speed_rolling\": 16.97666666666667, \"motor_rolling\": -0.2266666666666655}, {\"time\": 169, \"speed_rolling\": 16.923333333333336, \"motor_rolling\": -0.22333333333333216}, {\"time\": 169, \"speed_rolling\": 16.863333333333333, \"motor_rolling\": -0.22333333333333216}, {\"time\": 169, \"speed_rolling\": 16.803333333333338, \"motor_rolling\": -0.22}, {\"time\": 170, \"speed_rolling\": 16.736666666666668, \"motor_rolling\": -0.22}, {\"time\": 170, \"speed_rolling\": 16.683333333333334, \"motor_rolling\": -0.22333333333333216}, {\"time\": 170, \"speed_rolling\": 16.630000000000003, \"motor_rolling\": -0.2266666666666655}, {\"time\": 170, \"speed_rolling\": 16.566666666666666, \"motor_rolling\": -0.23}, {\"time\": 170, \"speed_rolling\": 16.5, \"motor_rolling\": -0.23}, {\"time\": 171, \"speed_rolling\": 16.406666666666666, \"motor_rolling\": -0.23}, {\"time\": 171, \"speed_rolling\": 16.316666666666666, \"motor_rolling\": -0.23}, {\"time\": 171, \"speed_rolling\": 16.24, \"motor_rolling\": -0.23}, {\"time\": 171, \"speed_rolling\": 16.19, \"motor_rolling\": -0.2266666666666655}, {\"time\": 172, \"speed_rolling\": 16.146666666666665, \"motor_rolling\": 0.09666666666666784}, {\"time\": 172, \"speed_rolling\": 16.099999999999998, \"motor_rolling\": 4.026666666666668}, {\"time\": 172, \"speed_rolling\": 16.05333333333333, \"motor_rolling\": 8.223333333333334}, {\"time\": 172, \"speed_rolling\": 16.26666666666667, \"motor_rolling\": 9.136666666666667}, {\"time\": 173, \"speed_rolling\": 16.536666666666665, \"motor_rolling\": 5.296666666666668}, {\"time\": 173, \"speed_rolling\": 16.806666666666665, \"motor_rolling\": 1.1533333333333344}, {\"time\": 173, \"speed_rolling\": 16.816666666666666, \"motor_rolling\": -0.08333333333333215}, {\"time\": 173, \"speed_rolling\": 16.77, \"motor_rolling\": -0.17333333333333215}, {\"time\": 173, \"speed_rolling\": 16.723333333333333, \"motor_rolling\": -0.23}, {\"time\": 174, \"speed_rolling\": 16.67, \"motor_rolling\": -0.23}, {\"time\": 174, \"speed_rolling\": 16.583333333333332, \"motor_rolling\": -0.23}, {\"time\": 174, \"speed_rolling\": 16.496666666666666, \"motor_rolling\": -0.23}, {\"time\": 174, \"speed_rolling\": 16.41333333333333, \"motor_rolling\": -0.23}, {\"time\": 175, \"speed_rolling\": 16.356666666666666, \"motor_rolling\": -0.23}, {\"time\": 175, \"speed_rolling\": 16.299999999999997, \"motor_rolling\": -0.23}, {\"time\": 175, \"speed_rolling\": 16.256666666666664, \"motor_rolling\": -0.23}, {\"time\": 175, \"speed_rolling\": 16.19, \"motor_rolling\": -0.23}, {\"time\": 176, \"speed_rolling\": 16.12333333333333, \"motor_rolling\": -0.23}, {\"time\": 176, \"speed_rolling\": 16.046666666666667, \"motor_rolling\": -0.23}, {\"time\": 176, \"speed_rolling\": 16.0, \"motor_rolling\": -0.23}, {\"time\": 176, \"speed_rolling\": 15.953333333333333, \"motor_rolling\": -0.23}, {\"time\": 176, \"speed_rolling\": 15.896666666666667, \"motor_rolling\": -0.23}, {\"time\": 177, \"speed_rolling\": 15.836666666666666, \"motor_rolling\": -0.23}, {\"time\": 177, \"speed_rolling\": 15.75, \"motor_rolling\": -0.23}, {\"time\": 177, \"speed_rolling\": 15.666666666666666, \"motor_rolling\": 1.526666666666668}, {\"time\": 177, \"speed_rolling\": 15.61, \"motor_rolling\": 1.9300000000000015}, {\"time\": 178, \"speed_rolling\": 15.596666666666666, \"motor_rolling\": 2.0233333333333348}, {\"time\": 178, \"speed_rolling\": 15.603333333333333, \"motor_rolling\": 0.35333333333333455}, {\"time\": 178, \"speed_rolling\": 15.61, \"motor_rolling\": 0.046666666666667855}, {\"time\": 178, \"speed_rolling\": 15.579999999999998, \"motor_rolling\": 0.05000000000000118}, {\"time\": 179, \"speed_rolling\": 15.536666666666667, \"motor_rolling\": 0.06}, {\"time\": 179, \"speed_rolling\": 15.469999999999999, \"motor_rolling\": 0.06}, {\"time\": 179, \"speed_rolling\": 15.4, \"motor_rolling\": 0.05666666666666784}, {\"time\": 179, \"speed_rolling\": 15.353333333333333, \"motor_rolling\": 0.05666666666666784}, {\"time\": 179, \"speed_rolling\": 15.31, \"motor_rolling\": 0.05666666666666784}, {\"time\": 180, \"speed_rolling\": 15.263333333333334, \"motor_rolling\": 0.06}, {\"time\": 180, \"speed_rolling\": 15.216666666666667, \"motor_rolling\": 0.06}, {\"time\": 180, \"speed_rolling\": 15.149999999999999, \"motor_rolling\": 0.06}, {\"time\": 180, \"speed_rolling\": 15.11, \"motor_rolling\": 0.06}, {\"time\": 181, \"speed_rolling\": 15.046666666666667, \"motor_rolling\": 0.06}, {\"time\": 181, \"speed_rolling\": 15.01, \"motor_rolling\": 0.06}, {\"time\": 181, \"speed_rolling\": 14.973333333333334, \"motor_rolling\": 0.06}, {\"time\": 181, \"speed_rolling\": 14.943333333333335, \"motor_rolling\": 0.06}, {\"time\": 182, \"speed_rolling\": 14.903333333333334, \"motor_rolling\": 0.06}, {\"time\": 182, \"speed_rolling\": 14.833333333333334, \"motor_rolling\": 0.06}, {\"time\": 182, \"speed_rolling\": 14.78, \"motor_rolling\": 0.14000000000000118}, {\"time\": 182, \"speed_rolling\": 14.716666666666669, \"motor_rolling\": 4.043333333333334}, {\"time\": 182, \"speed_rolling\": 14.71, \"motor_rolling\": 8.746666666666668}, {\"time\": 183, \"speed_rolling\": 14.703333333333333, \"motor_rolling\": 13.186666666666667}, {\"time\": 183, \"speed_rolling\": 14.896666666666667, \"motor_rolling\": 13.560000000000002}, {\"time\": 183, \"speed_rolling\": 15.25, \"motor_rolling\": 9.636666666666668}, {\"time\": 183, \"speed_rolling\": 15.729999999999999, \"motor_rolling\": 5.110000000000001}, {\"time\": 184, \"speed_rolling\": 16.023333333333333, \"motor_rolling\": 0.8133333333333345}, {\"time\": 184, \"speed_rolling\": 16.096666666666668, \"motor_rolling\": 0.030000000000001182}, {\"time\": 184, \"speed_rolling\": 16.043333333333333, \"motor_rolling\": 0.03333333333333452}, {\"time\": 184, \"speed_rolling\": 15.983333333333334, \"motor_rolling\": 0.05}, {\"time\": 185, \"speed_rolling\": 15.920000000000002, \"motor_rolling\": 0.053333333333334516}, {\"time\": 185, \"speed_rolling\": 15.823333333333332, \"motor_rolling\": 0.05666666666666784}, {\"time\": 185, \"speed_rolling\": 15.713333333333333, \"motor_rolling\": 0.06}, {\"time\": 185, \"speed_rolling\": 15.64, \"motor_rolling\": 0.06}, {\"time\": 185, \"speed_rolling\": 15.56, \"motor_rolling\": 0.06}, {\"time\": 186, \"speed_rolling\": 15.469999999999999, \"motor_rolling\": 0.06}, {\"time\": 186, \"speed_rolling\": 15.38, \"motor_rolling\": 0.06}, {\"time\": 186, \"speed_rolling\": 15.286666666666667, \"motor_rolling\": 0.06}, {\"time\": 186, \"speed_rolling\": 15.206666666666665, \"motor_rolling\": 0.06}, {\"time\": 187, \"speed_rolling\": 15.076666666666668, \"motor_rolling\": 0.06}, {\"time\": 187, \"speed_rolling\": 14.943333333333333, \"motor_rolling\": 0.07000000000000119}, {\"time\": 187, \"speed_rolling\": 14.84666666666667, \"motor_rolling\": 3.560000000000001}, {\"time\": 187, \"speed_rolling\": 14.746666666666668, \"motor_rolling\": 8.333333333333334}, {\"time\": 188, \"speed_rolling\": 14.793333333333335, \"motor_rolling\": 9.690000000000001}, {\"time\": 188, \"speed_rolling\": 14.839999999999998, \"motor_rolling\": 6.196666666666669}, {\"time\": 188, \"speed_rolling\": 14.986666666666666, \"motor_rolling\": 1.4633333333333347}, {\"time\": 188, \"speed_rolling\": 14.976666666666667, \"motor_rolling\": 0.15666666666666784}, {\"time\": 188, \"speed_rolling\": 14.926666666666668, \"motor_rolling\": 0.2233333333333345}, {\"time\": 189, \"speed_rolling\": 14.83, \"motor_rolling\": 0.24666666666666784}, {\"time\": 189, \"speed_rolling\": 14.716666666666667, \"motor_rolling\": 1.7800000000000011}, {\"time\": 189, \"speed_rolling\": 14.563333333333333, \"motor_rolling\": 6.533333333333334}, {\"time\": 189, \"speed_rolling\": 14.479999999999999, \"motor_rolling\": 11.313333333333334}, {\"time\": 190, \"speed_rolling\": 14.633333333333333, \"motor_rolling\": 14.396666666666668}, {\"time\": 190, \"speed_rolling\": 14.866666666666665, \"motor_rolling\": 14.056666666666667}, {\"time\": 190, \"speed_rolling\": 15.203333333333333, \"motor_rolling\": 13.486666666666666}, {\"time\": 190, \"speed_rolling\": 15.546666666666667, \"motor_rolling\": 12.990000000000002}, {\"time\": 191, \"speed_rolling\": 15.89, \"motor_rolling\": 12.590000000000002}, {\"time\": 191, \"speed_rolling\": 16.213333333333335, \"motor_rolling\": 12.313333333333333}, {\"time\": 191, \"speed_rolling\": 16.58, \"motor_rolling\": 12.133333333333335}, {\"time\": 191, \"speed_rolling\": 16.946666666666665, \"motor_rolling\": 12.080000000000004}, {\"time\": 191, \"speed_rolling\": 17.27, \"motor_rolling\": 12.09666666666667}, {\"time\": 192, \"speed_rolling\": 17.5, \"motor_rolling\": 12.076666666666668}, {\"time\": 192, \"speed_rolling\": 17.843333333333334, \"motor_rolling\": 12.030000000000001}, {\"time\": 192, \"speed_rolling\": 18.076666666666668, \"motor_rolling\": 12.020000000000001}, {\"time\": 192, \"speed_rolling\": 18.293333333333333, \"motor_rolling\": 11.99}, {\"time\": 193, \"speed_rolling\": 18.583333333333332, \"motor_rolling\": 11.866666666666667}, {\"time\": 193, \"speed_rolling\": 18.963333333333335, \"motor_rolling\": 11.69}, {\"time\": 193, \"speed_rolling\": 19.33666666666667, \"motor_rolling\": 10.436666666666667}, {\"time\": 193, \"speed_rolling\": 19.523333333333333, \"motor_rolling\": 6.576666666666668}, {\"time\": 194, \"speed_rolling\": 19.646666666666665, \"motor_rolling\": 2.7400000000000015}, {\"time\": 194, \"speed_rolling\": 19.636666666666667, \"motor_rolling\": 0.02666666666666785}, {\"time\": 194, \"speed_rolling\": 19.586666666666666, \"motor_rolling\": 0.030000000000001182}, {\"time\": 194, \"speed_rolling\": 19.430000000000003, \"motor_rolling\": 0.03666666666666785}, {\"time\": 194, \"speed_rolling\": 19.31, \"motor_rolling\": 0.05}, {\"time\": 195, \"speed_rolling\": 19.19333333333333, \"motor_rolling\": 0.05}, {\"time\": 195, \"speed_rolling\": 19.113333333333333, \"motor_rolling\": 0.05}, {\"time\": 195, \"speed_rolling\": 18.99, \"motor_rolling\": 0.053333333333334516}, {\"time\": 195, \"speed_rolling\": 18.866666666666664, \"motor_rolling\": 0.053333333333334516}, {\"time\": 196, \"speed_rolling\": 18.75, \"motor_rolling\": 0.053333333333334516}, {\"time\": 196, \"speed_rolling\": 18.63, \"motor_rolling\": 0.05}, {\"time\": 196, \"speed_rolling\": 18.506666666666664, \"motor_rolling\": 0.05}, {\"time\": 196, \"speed_rolling\": 18.37333333333333, \"motor_rolling\": 0.05}, {\"time\": 197, \"speed_rolling\": 18.25, \"motor_rolling\": 0.05}, {\"time\": 197, \"speed_rolling\": 18.166666666666668, \"motor_rolling\": 0.053333333333334516}, {\"time\": 197, \"speed_rolling\": 18.093333333333334, \"motor_rolling\": 0.053333333333334516}, {\"time\": 197, \"speed_rolling\": 17.973333333333333, \"motor_rolling\": 0.053333333333334516}, {\"time\": 197, \"speed_rolling\": 17.853333333333335, \"motor_rolling\": 0.05}, {\"time\": 198, \"speed_rolling\": 17.73, \"motor_rolling\": 0.053333333333334516}, {\"time\": 198, \"speed_rolling\": 17.646666666666665, \"motor_rolling\": 0.05666666666666784}, {\"time\": 198, \"speed_rolling\": 17.516666666666666, \"motor_rolling\": 0.06}, {\"time\": 198, \"speed_rolling\": 17.426666666666666, \"motor_rolling\": 0.05666666666666786}, {\"time\": 199, \"speed_rolling\": 17.343333333333334, \"motor_rolling\": 0.05666666666666786}, {\"time\": 199, \"speed_rolling\": 17.220000000000002, \"motor_rolling\": 0.05666666666666786}, {\"time\": 199, \"speed_rolling\": 17.096666666666668, \"motor_rolling\": 0.05666666666666784}, {\"time\": 199, \"speed_rolling\": 16.96666666666667, \"motor_rolling\": 0.05666666666666784}]}}, {\"mode\": \"vega-lite\"});\n</script>",
      "text/plain": "alt.LayerChart(...)"
     },
     "execution_count": 82,
     "metadata": {},
     "output_type": "execute_result"
    }
   ],
   "source": [
    "masked = mask_df(df)\n",
    "\n",
    "\n",
    "#rolling average over speeds\n",
    "def get_rolling(attribute, masked):\n",
    "    copy = masked.copy()\n",
    "    copy = copy[(copy[attribute] < 50)]\n",
    "    rolling = copy[attribute].rolling(window=3).mean()\n",
    "    rolling = rolling[rolling.notna()]\n",
    "    return rolling\n",
    "\n",
    "def graph_attribute(attribute, masked, rolling_window = 3):\n",
    "    copy = masked.copy()\n",
    "    copy = copy[copy[attribute] < 50]\n",
    "    copy[\"rolling\"] = copy[attribute].rolling(window=rolling_window).mean()\n",
    "    copy = copy[copy[\"rolling\"].notna()]\n",
    "    copy = copy[copy[attribute] > 1]\n",
    "    chart = alt.Chart(copy[[\"time\", \"rolling\"]]).mark_line().encode(\n",
    "        x=alt.X(\"time\", title=\"Time (s)\"),\n",
    "        y=alt.Y(\"rolling\", title=\"Velocity (m/s)\"))\n",
    "    display(chart)\n",
    "\n",
    "\n",
    "masked = masked[(masked[\"time\"] > 150) & (masked[\"time\"] < 200)]\n",
    "speed_rolling = get_rolling(\"speed\", masked)\n",
    "motor_rolling = get_rolling(\"current_motor\", masked)\n",
    "masked[\"speed_rolling\"] = speed_rolling\n",
    "masked[\"motor_rolling\"] = motor_rolling\n",
    "display(masked)\n",
    "base = alt.Chart(masked[[ \"time\", \"speed_rolling\", \"motor_rolling\" ]]).encode(\n",
    "    alt.X(\"time\", title=\"time (s)\")\n",
    ")\n",
    "line1 = base.mark_line(stroke=\"#04a5e5\").encode(\n",
    "    alt.Y(\"speed_rolling\", axis=(alt.Axis(title = \"Velocity (m/s)\", titleColor = \"#04a5e5\"))) \n",
    ")\n",
    "\n",
    "line2 = base.mark_line(stroke=\"#fe640b\").encode(\n",
    "    alt.Y(\"motor_rolling\", scale = alt.Scale(domain=[0, 20]), axis=(alt.Axis(title = \"Motor Current (Amps)\", titleColor = \"#fe640b\")))\n",
    ")\n",
    "\n",
    "alt.layer(line1, line2).resolve_scale(\n",
    "    y=\"independent\"\n",
    ")\n"
   ],
   "metadata": {
    "collapsed": false,
    "ExecuteTime": {
     "end_time": "2024-02-27T04:37:14.359866Z",
     "start_time": "2024-02-27T04:37:14.292219Z"
    }
   },
   "id": "426fa7a52e20f89b",
   "execution_count": 82
  },
  {
   "cell_type": "code",
   "outputs": [
    {
     "data": {
      "text/html": "\n<style>\n  #altair-viz-8123030cd8914da6b370904f809f3404.vega-embed {\n    width: 100%;\n    display: flex;\n  }\n\n  #altair-viz-8123030cd8914da6b370904f809f3404.vega-embed details,\n  #altair-viz-8123030cd8914da6b370904f809f3404.vega-embed details summary {\n    position: relative;\n  }\n</style>\n<div id=\"altair-viz-8123030cd8914da6b370904f809f3404\"></div>\n<script type=\"text/javascript\">\n  var VEGA_DEBUG = (typeof VEGA_DEBUG == \"undefined\") ? {} : VEGA_DEBUG;\n  (function(spec, embedOpt){\n    let outputDiv = document.currentScript.previousElementSibling;\n    if (outputDiv.id !== \"altair-viz-8123030cd8914da6b370904f809f3404\") {\n      outputDiv = document.getElementById(\"altair-viz-8123030cd8914da6b370904f809f3404\");\n    }\n    const paths = {\n      \"vega\": \"https://cdn.jsdelivr.net/npm/vega@5?noext\",\n      \"vega-lib\": \"https://cdn.jsdelivr.net/npm/vega-lib?noext\",\n      \"vega-lite\": \"https://cdn.jsdelivr.net/npm/vega-lite@5.16.3?noext\",\n      \"vega-embed\": \"https://cdn.jsdelivr.net/npm/vega-embed@6?noext\",\n    };\n\n    function maybeLoadScript(lib, version) {\n      var key = `${lib.replace(\"-\", \"\")}_version`;\n      return (VEGA_DEBUG[key] == version) ?\n        Promise.resolve(paths[lib]) :\n        new Promise(function(resolve, reject) {\n          var s = document.createElement('script');\n          document.getElementsByTagName(\"head\")[0].appendChild(s);\n          s.async = true;\n          s.onload = () => {\n            VEGA_DEBUG[key] = version;\n            return resolve(paths[lib]);\n          };\n          s.onerror = () => reject(`Error loading script: ${paths[lib]}`);\n          s.src = paths[lib];\n        });\n    }\n\n    function showError(err) {\n      outputDiv.innerHTML = `<div class=\"error\" style=\"color:red;\">${err}</div>`;\n      throw err;\n    }\n\n    function displayChart(vegaEmbed) {\n      vegaEmbed(outputDiv, spec, embedOpt)\n        .catch(err => showError(`Javascript Error: ${err.message}<br>This usually means there's a typo in your chart specification. See the javascript console for the full traceback.`));\n    }\n\n    if(typeof define === \"function\" && define.amd) {\n      requirejs.config({paths});\n      require([\"vega-embed\"], displayChart, err => showError(`Error loading script: ${err.message}`));\n    } else {\n      maybeLoadScript(\"vega\", \"5\")\n        .then(() => maybeLoadScript(\"vega-lite\", \"5.16.3\"))\n        .then(() => maybeLoadScript(\"vega-embed\", \"6\"))\n        .catch(showError)\n        .then(() => displayChart(vegaEmbed));\n    }\n  })({\"width\": 685, \"height\": 380, \"config\": {\"title\": {\"anchor\": \"start\", \"fontSize\": 18, \"font\": \"Lato\", \"fontColor\": \"#000000\"}, \"axisX\": {\"domain\": true, \"domainColor\": \"#000000\", \"domainWidth\": 1, \"grid\": false, \"labelFontSize\": 12, \"labelFont\": \"Lato\", \"labelAngle\": 0, \"tickColor\": \"#000000\", \"tickSize\": 5, \"titleFontSize\": 12, \"titlePadding\": 10, \"titleFont\": \"Lato\", \"title\": \"\"}, \"axisY\": {\"domain\": false, \"grid\": true, \"gridColor\": \"#DEDDDD\", \"gridWidth\": 1, \"labelFontSize\": 12, \"labelFont\": \"Lato\", \"labelPadding\": 8, \"ticks\": false, \"titleFontSize\": 12, \"titlePadding\": 10, \"titleFont\": \"Lato\", \"titleAngle\": 0, \"titleY\": -10, \"titleX\": 18}, \"background\": \"#FFFFFF\", \"legend\": {\"labelFontSize\": 12, \"labelFont\": \"Lato\", \"symbolSize\": 100, \"symbolType\": \"square\", \"titleFontSize\": 12, \"titlePadding\": 10, \"titleFont\": \"Lato\", \"title\": \"\", \"orient\": \"top-left\", \"offset\": 0}, \"view\": {\"stroke\": \"transparent\"}, \"range\": {\"category\": [\"#1696d2\", \"#d2d2d2\", \"#000000\", \"#fdbf11\", \"#ec008b\", \"#55b748\", \"#5c5859\", \"#db2b27\"], \"diverging\": [\"#cfe8f3\", \"#a2d4ec\", \"#73bfe2\", \"#46abdb\", \"#1696d2\", \"#12719e\"]}, \"area\": {\"fill\": \"#1696d2\"}, \"line\": {\"color\": \"#1696d2\", \"stroke\": \"#1696d2\", \"strokewidth\": 5}, \"trail\": {\"color\": \"#1696d2\", \"stroke\": \"#1696d2\", \"strokeWidth\": 0, \"size\": 1}, \"path\": {\"stroke\": \"#1696d2\", \"strokeWidth\": 0.5}, \"point\": {\"filled\": true}, \"text\": {\"font\": \"Lato\", \"color\": \"#1696d2\", \"fontSize\": 11, \"align\": \"right\", \"fontWeight\": 400, \"size\": 11}, \"bar\": {\"size\": 40, \"binSpacing\": 1, \"continuousBandSize\": 30, \"discreteBandSize\": 30, \"fill\": \"#1696d2\", \"stroke\": false}}, \"data\": {\"name\": \"data-19a1bef17bcf39b4634436753194444a\"}, \"mark\": {\"type\": \"line\"}, \"encoding\": {\"x\": {\"field\": \"time\", \"title\": \"Time (s)\", \"type\": \"quantitative\"}, \"y\": {\"field\": \"rolling\", \"title\": \"Velocity (m/s)\", \"type\": \"quantitative\"}}, \"$schema\": \"https://vega.github.io/schema/vega-lite/v5.16.3.json\", \"datasets\": {\"data-19a1bef17bcf39b4634436753194444a\": [{\"time\": 152, \"rolling\": 11.040000000000001}, {\"time\": 152, \"rolling\": 11.112}, {\"time\": 152, \"rolling\": 11.16}, {\"time\": 152, \"rolling\": 11.208}, {\"time\": 152, \"rolling\": 11.27}, {\"time\": 153, \"rolling\": 11.501999999999999}, {\"time\": 153, \"rolling\": 11.751999999999999}, {\"time\": 153, \"rolling\": 12.178}, {\"time\": 153, \"rolling\": 12.604000000000001}, {\"time\": 154, \"rolling\": 12.968}, {\"time\": 154, \"rolling\": 13.146}, {\"time\": 154, \"rolling\": 13.306000000000001}, {\"time\": 154, \"rolling\": 13.313999999999998}, {\"time\": 155, \"rolling\": 13.307999999999998}, {\"time\": 155, \"rolling\": 13.26}, {\"time\": 155, \"rolling\": 13.225999999999999}, {\"time\": 155, \"rolling\": 13.319999999999999}, {\"time\": 155, \"rolling\": 13.544}, {\"time\": 156, \"rolling\": 13.782}, {\"time\": 156, \"rolling\": 14.059999999999999}, {\"time\": 156, \"rolling\": 14.336000000000002}, {\"time\": 156, \"rolling\": 14.502}, {\"time\": 157, \"rolling\": 14.528}, {\"time\": 157, \"rolling\": 14.546000000000001}, {\"time\": 157, \"rolling\": 14.512}, {\"time\": 157, \"rolling\": 14.482}, {\"time\": 158, \"rolling\": 14.440000000000001}, {\"time\": 158, \"rolling\": 14.4}, {\"time\": 158, \"rolling\": 14.368}, {\"time\": 158, \"rolling\": 14.344}, {\"time\": 158, \"rolling\": 14.309999999999999}, {\"time\": 159, \"rolling\": 14.278}, {\"time\": 159, \"rolling\": 14.254}, {\"time\": 159, \"rolling\": 14.219999999999999}, {\"time\": 159, \"rolling\": 14.179999999999998}, {\"time\": 160, \"rolling\": 14.15}, {\"time\": 160, \"rolling\": 14.128}, {\"time\": 160, \"rolling\": 14.1}, {\"time\": 160, \"rolling\": 14.124}, {\"time\": 161, \"rolling\": 14.157999999999998}, {\"time\": 161, \"rolling\": 14.225999999999999}, {\"time\": 161, \"rolling\": 14.296000000000001}, {\"time\": 161, \"rolling\": 14.36}, {\"time\": 161, \"rolling\": 14.366}, {\"time\": 162, \"rolling\": 14.347999999999999}, {\"time\": 162, \"rolling\": 14.278}, {\"time\": 162, \"rolling\": 14.208000000000002}, {\"time\": 162, \"rolling\": 14.136000000000001}, {\"time\": 163, \"rolling\": 14.080000000000002}, {\"time\": 163, \"rolling\": 14.026}, {\"time\": 163, \"rolling\": 13.99}, {\"time\": 163, \"rolling\": 13.943999999999999}, {\"time\": 164, \"rolling\": 13.912}, {\"time\": 164, \"rolling\": 13.904000000000002}, {\"time\": 164, \"rolling\": 14.028}, {\"time\": 164, \"rolling\": 14.152000000000001}, {\"time\": 164, \"rolling\": 14.334}, {\"time\": 165, \"rolling\": 14.516}, {\"time\": 165, \"rolling\": 14.66}, {\"time\": 165, \"rolling\": 14.693999999999999}, {\"time\": 165, \"rolling\": 14.716}, {\"time\": 166, \"rolling\": 14.675999999999998}, {\"time\": 166, \"rolling\": 14.636000000000001}, {\"time\": 166, \"rolling\": 14.76}, {\"time\": 166, \"rolling\": 14.884}, {\"time\": 167, \"rolling\": 15.132}, {\"time\": 167, \"rolling\": 15.434000000000001}, {\"time\": 167, \"rolling\": 15.735999999999999}, {\"time\": 167, \"rolling\": 15.9}, {\"time\": 167, \"rolling\": 16.148}, {\"time\": 168, \"rolling\": 16.378}, {\"time\": 168, \"rolling\": 16.580000000000002}, {\"time\": 168, \"rolling\": 16.774}, {\"time\": 168, \"rolling\": 16.934}, {\"time\": 169, \"rolling\": 17.009999999999998}, {\"time\": 169, \"rolling\": 16.982}, {\"time\": 169, \"rolling\": 16.916}, {\"time\": 169, \"rolling\": 16.858}, {\"time\": 170, \"rolling\": 16.808}, {\"time\": 170, \"rolling\": 16.740000000000002}, {\"time\": 170, \"rolling\": 16.682000000000002}, {\"time\": 170, \"rolling\": 16.630000000000003}, {\"time\": 170, \"rolling\": 16.558}, {\"time\": 171, \"rolling\": 16.484}, {\"time\": 171, \"rolling\": 16.41}, {\"time\": 171, \"rolling\": 16.324}, {\"time\": 171, \"rolling\": 16.258000000000003}, {\"time\": 172, \"rolling\": 16.198}, {\"time\": 172, \"rolling\": 16.14}, {\"time\": 172, \"rolling\": 16.1}, {\"time\": 172, \"rolling\": 16.214}, {\"time\": 173, \"rolling\": 16.348}, {\"time\": 173, \"rolling\": 16.496000000000002}, {\"time\": 173, \"rolling\": 16.644}, {\"time\": 173, \"rolling\": 16.778}, {\"time\": 173, \"rolling\": 16.770000000000003}, {\"time\": 174, \"rolling\": 16.724}, {\"time\": 174, \"rolling\": 16.644}, {\"time\": 174, \"rolling\": 16.578}, {\"time\": 174, \"rolling\": 16.509999999999998}, {\"time\": 175, \"rolling\": 16.424}, {\"time\": 175, \"rolling\": 16.356}, {\"time\": 175, \"rolling\": 16.314}, {\"time\": 175, \"rolling\": 16.240000000000002}, {\"time\": 176, \"rolling\": 16.182}, {\"time\": 176, \"rolling\": 16.127999999999997}, {\"time\": 176, \"rolling\": 16.06}, {\"time\": 176, \"rolling\": 16.0}, {\"time\": 176, \"rolling\": 15.952000000000002}, {\"time\": 177, \"rolling\": 15.888}, {\"time\": 177, \"rolling\": 15.822}, {\"time\": 177, \"rolling\": 15.752}, {\"time\": 177, \"rolling\": 15.681999999999999}, {\"time\": 178, \"rolling\": 15.642000000000001}, {\"time\": 178, \"rolling\": 15.612}, {\"time\": 178, \"rolling\": 15.597999999999999}, {\"time\": 178, \"rolling\": 15.59}, {\"time\": 179, \"rolling\": 15.568000000000001}, {\"time\": 179, \"rolling\": 15.522}, {\"time\": 179, \"rolling\": 15.468}, {\"time\": 179, \"rolling\": 15.413999999999998}, {\"time\": 179, \"rolling\": 15.36}, {\"time\": 180, \"rolling\": 15.303999999999998}, {\"time\": 180, \"rolling\": 15.262}, {\"time\": 180, \"rolling\": 15.209999999999999}, {\"time\": 180, \"rolling\": 15.157999999999998}, {\"time\": 181, \"rolling\": 15.104}, {\"time\": 181, \"rolling\": 15.058000000000002}, {\"time\": 181, \"rolling\": 15.012}, {\"time\": 181, \"rolling\": 14.98}, {\"time\": 182, \"rolling\": 14.934000000000001}, {\"time\": 182, \"rolling\": 14.884}, {\"time\": 182, \"rolling\": 14.841999999999999}, {\"time\": 182, \"rolling\": 14.780000000000001}, {\"time\": 182, \"rolling\": 14.744}, {\"time\": 183, \"rolling\": 14.722}, {\"time\": 183, \"rolling\": 14.818000000000001}, {\"time\": 183, \"rolling\": 15.026}, {\"time\": 183, \"rolling\": 15.330000000000002}, {\"time\": 184, \"rolling\": 15.606}, {\"time\": 184, \"rolling\": 15.862}, {\"time\": 184, \"rolling\": 16.018}, {\"time\": 184, \"rolling\": 16.046}, {\"time\": 185, \"rolling\": 15.976000000000003}, {\"time\": 185, \"rolling\": 15.898000000000001}, {\"time\": 185, \"rolling\": 15.815999999999999}, {\"time\": 185, \"rolling\": 15.734}, {\"time\": 185, \"rolling\": 15.644}, {\"time\": 186, \"rolling\": 15.545999999999998}, {\"time\": 186, \"rolling\": 15.468}, {\"time\": 186, \"rolling\": 15.388}, {\"time\": 186, \"rolling\": 15.286000000000001}, {\"time\": 187, \"rolling\": 15.178}, {\"time\": 187, \"rolling\": 15.072}, {\"time\": 187, \"rolling\": 14.966}, {\"time\": 187, \"rolling\": 14.854}, {\"time\": 188, \"rolling\": 14.824000000000002}, {\"time\": 188, \"rolling\": 14.824000000000002}, {\"time\": 188, \"rolling\": 14.88}, {\"time\": 188, \"rolling\": 14.902000000000001}, {\"time\": 188, \"rolling\": 14.931999999999999}, {\"time\": 189, \"rolling\": 14.901999999999997}, {\"time\": 189, \"rolling\": 14.828}, {\"time\": 189, \"rolling\": 14.678}, {\"time\": 189, \"rolling\": 14.604}, {\"time\": 190, \"rolling\": 14.651999999999997}, {\"time\": 190, \"rolling\": 14.7}, {\"time\": 190, \"rolling\": 14.895999999999997}, {\"time\": 190, \"rolling\": 15.241999999999999}, {\"time\": 191, \"rolling\": 15.545999999999998}, {\"time\": 191, \"rolling\": 15.844}, {\"time\": 191, \"rolling\": 16.27}, {\"time\": 191, \"rolling\": 16.592}, {\"time\": 191, \"rolling\": 16.877999999999997}, {\"time\": 192, \"rolling\": 17.235999999999997}, {\"time\": 192, \"rolling\": 17.57}, {\"time\": 192, \"rolling\": 17.776}, {\"time\": 192, \"rolling\": 18.044}, {\"time\": 193, \"rolling\": 18.357999999999997}, {\"time\": 193, \"rolling\": 18.654}, {\"time\": 193, \"rolling\": 18.94}, {\"time\": 193, \"rolling\": 19.226}, {\"time\": 194, \"rolling\": 19.465999999999998}, {\"time\": 194, \"rolling\": 19.572}, {\"time\": 194, \"rolling\": 19.6}, {\"time\": 194, \"rolling\": 19.522}, {\"time\": 194, \"rolling\": 19.444}, {\"time\": 195, \"rolling\": 19.328000000000003}, {\"time\": 195, \"rolling\": 19.208000000000002}, {\"time\": 195, \"rolling\": 19.086000000000002}, {\"time\": 195, \"rolling\": 18.990000000000002}, {\"time\": 196, \"rolling\": 18.872}, {\"time\": 196, \"rolling\": 18.748}, {\"time\": 196, \"rolling\": 18.625999999999998}, {\"time\": 196, \"rolling\": 18.502}, {\"time\": 197, \"rolling\": 18.377999999999997}, {\"time\": 197, \"rolling\": 18.276}, {\"time\": 197, \"rolling\": 18.18}, {\"time\": 197, \"rolling\": 18.058}, {\"time\": 197, \"rolling\": 17.964}, {\"time\": 198, \"rolling\": 17.868000000000002}, {\"time\": 198, \"rolling\": 17.746}, {\"time\": 198, \"rolling\": 17.618000000000002}, {\"time\": 198, \"rolling\": 17.54}, {\"time\": 199, \"rolling\": 17.44}, {\"time\": 199, \"rolling\": 17.312}, {\"time\": 199, \"rolling\": 17.21}, {\"time\": 199, \"rolling\": 17.110000000000003}]}}, {\"mode\": \"vega-lite\"});\n</script>",
      "text/plain": "alt.Chart(...)"
     },
     "metadata": {},
     "output_type": "display_data"
    }
   ],
   "source": [
    "graph_attribute(\"speed\", masked, 5)"
   ],
   "metadata": {
    "collapsed": false,
    "ExecuteTime": {
     "end_time": "2024-02-27T04:37:16.672324Z",
     "start_time": "2024-02-27T04:37:16.654076Z"
    }
   },
   "id": "1490ff25f78d20a9",
   "execution_count": 83
  },
  {
   "cell_type": "code",
   "outputs": [],
   "source": [],
   "metadata": {
    "collapsed": false,
    "ExecuteTime": {
     "end_time": "2024-02-27T04:29:11.712802Z",
     "start_time": "2024-02-27T04:29:11.711291Z"
    }
   },
   "id": "b3e3037c55635ca9",
   "execution_count": 78
  },
  {
   "cell_type": "code",
   "outputs": [],
   "source": [],
   "metadata": {
    "collapsed": false,
    "ExecuteTime": {
     "end_time": "2024-02-27T04:29:11.715363Z",
     "start_time": "2024-02-27T04:29:11.713845Z"
    }
   },
   "id": "2ff4ef821bca48c6",
   "execution_count": 78
  },
  {
   "cell_type": "code",
   "outputs": [],
   "source": [],
   "metadata": {
    "collapsed": false,
    "ExecuteTime": {
     "end_time": "2024-02-27T04:29:11.737721Z",
     "start_time": "2024-02-27T04:29:11.735956Z"
    }
   },
   "id": "9890b0e4fcd21685",
   "execution_count": 78
  }
 ],
 "metadata": {
  "kernelspec": {
   "display_name": "Python 3",
   "language": "python",
   "name": "python3"
  },
  "language_info": {
   "codemirror_mode": {
    "name": "ipython",
    "version": 2
   },
   "file_extension": ".py",
   "mimetype": "text/x-python",
   "name": "python",
   "nbconvert_exporter": "python",
   "pygments_lexer": "ipython2",
   "version": "2.7.6"
  }
 },
 "nbformat": 4,
 "nbformat_minor": 5
}
